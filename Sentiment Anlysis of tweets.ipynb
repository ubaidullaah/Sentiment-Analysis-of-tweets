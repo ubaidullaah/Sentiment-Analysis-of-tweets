{
 "cells": [
  {
   "cell_type": "code",
   "execution_count": 1,
   "id": "672d0a15",
   "metadata": {},
   "outputs": [
    {
     "name": "stderr",
     "output_type": "stream",
     "text": [
      "[nltk_data] Downloading package punkt to\n",
      "[nltk_data]     C:\\Users\\Admin\\AppData\\Roaming\\nltk_data...\n",
      "[nltk_data]   Package punkt is already up-to-date!\n",
      "[nltk_data] Downloading package wordnet to\n",
      "[nltk_data]     C:\\Users\\Admin\\AppData\\Roaming\\nltk_data...\n",
      "[nltk_data]   Package wordnet is already up-to-date!\n"
     ]
    }
   ],
   "source": [
    "# utilities : \n",
    "import re # regular expression library\n",
    "import numpy as np\n",
    "import pandas as pd\n",
    "\n",
    "# plotting :\n",
    "import seaborn as sns\n",
    "from wordcloud import WordCloud\n",
    "import matplotlib.pyplot as plt\n",
    "\n",
    "# nltk :\n",
    "import nltk\n",
    "from nltk.stem import WordNetLemmatizer\n",
    "from nltk.tokenize import word_tokenize\n",
    "nltk.download('punkt')\n",
    "nltk.download('wordnet')\n",
    "from nltk.stem import PorterStemmer\n",
    "\n",
    "# sklearn :\n",
    "from sklearn.svm import LinearSVC\n",
    "from sklearn.naive_bayes import BernoulliNB\n",
    "from sklearn.model_selection import train_test_split\n",
    "from sklearn.feature_extraction.text import TfidfVectorizer\n",
    "from sklearn.metrics import confusion_matrix, classification_repo\n",
    "rt\n",
    "\n",
    "# time library :\n",
    "import time"
   ]
  },
  {
   "cell_type": "code",
   "execution_count": 2,
   "id": "bbe9220f",
   "metadata": {},
   "outputs": [
    {
     "data": {
      "text/html": [
       "<div>\n",
       "<style scoped>\n",
       "    .dataframe tbody tr th:only-of-type {\n",
       "        vertical-align: middle;\n",
       "    }\n",
       "\n",
       "    .dataframe tbody tr th {\n",
       "        vertical-align: top;\n",
       "    }\n",
       "\n",
       "    .dataframe thead th {\n",
       "        text-align: right;\n",
       "    }\n",
       "</style>\n",
       "<table border=\"1\" class=\"dataframe\">\n",
       "  <thead>\n",
       "    <tr style=\"text-align: right;\">\n",
       "      <th></th>\n",
       "      <th>target</th>\n",
       "      <th>ids</th>\n",
       "      <th>date</th>\n",
       "      <th>flag</th>\n",
       "      <th>user</th>\n",
       "      <th>text</th>\n",
       "    </tr>\n",
       "  </thead>\n",
       "  <tbody>\n",
       "    <tr>\n",
       "      <th>861947</th>\n",
       "      <td>4</td>\n",
       "      <td>1676783741</td>\n",
       "      <td>Fri May 01 23:11:00 PDT 2009</td>\n",
       "      <td>NO_QUERY</td>\n",
       "      <td>aaalison</td>\n",
       "      <td>@billbeckett ...I think they ran out of ideas....</td>\n",
       "    </tr>\n",
       "    <tr>\n",
       "      <th>28300</th>\n",
       "      <td>0</td>\n",
       "      <td>1559604644</td>\n",
       "      <td>Sun Apr 19 11:34:36 PDT 2009</td>\n",
       "      <td>NO_QUERY</td>\n",
       "      <td>qbs_mom</td>\n",
       "      <td>Is back in bed suffering thru a horrible heada...</td>\n",
       "    </tr>\n",
       "    <tr>\n",
       "      <th>983970</th>\n",
       "      <td>4</td>\n",
       "      <td>1834341330</td>\n",
       "      <td>Mon May 18 02:33:55 PDT 2009</td>\n",
       "      <td>NO_QUERY</td>\n",
       "      <td>brooklynoop</td>\n",
       "      <td>@LstInTheSeeThru http://twitpic.com/5f228 - I ...</td>\n",
       "    </tr>\n",
       "    <tr>\n",
       "      <th>1164630</th>\n",
       "      <td>4</td>\n",
       "      <td>1979774412</td>\n",
       "      <td>Sun May 31 04:27:11 PDT 2009</td>\n",
       "      <td>NO_QUERY</td>\n",
       "      <td>thk8r</td>\n",
       "      <td>is looking forward to looonch on the balcony i...</td>\n",
       "    </tr>\n",
       "    <tr>\n",
       "      <th>82440</th>\n",
       "      <td>0</td>\n",
       "      <td>1753052212</td>\n",
       "      <td>Sat May 09 23:57:04 PDT 2009</td>\n",
       "      <td>NO_QUERY</td>\n",
       "      <td>xa84te</td>\n",
       "      <td>honestly didn't know it was mother's day till ...</td>\n",
       "    </tr>\n",
       "  </tbody>\n",
       "</table>\n",
       "</div>"
      ],
      "text/plain": [
       "         target         ids                          date      flag  \\\n",
       "861947        4  1676783741  Fri May 01 23:11:00 PDT 2009  NO_QUERY   \n",
       "28300         0  1559604644  Sun Apr 19 11:34:36 PDT 2009  NO_QUERY   \n",
       "983970        4  1834341330  Mon May 18 02:33:55 PDT 2009  NO_QUERY   \n",
       "1164630       4  1979774412  Sun May 31 04:27:11 PDT 2009  NO_QUERY   \n",
       "82440         0  1753052212  Sat May 09 23:57:04 PDT 2009  NO_QUERY   \n",
       "\n",
       "                user                                               text  \n",
       "861947      aaalison  @billbeckett ...I think they ran out of ideas....  \n",
       "28300        qbs_mom  Is back in bed suffering thru a horrible heada...  \n",
       "983970   brooklynoop  @LstInTheSeeThru http://twitpic.com/5f228 - I ...  \n",
       "1164630        thk8r  is looking forward to looonch on the balcony i...  \n",
       "82440         xa84te  honestly didn't know it was mother's day till ...  "
      ]
     },
     "execution_count": 2,
     "metadata": {},
     "output_type": "execute_result"
    }
   ],
   "source": [
    "# Importing the dataset :\n",
    "DATASET_COLUMNS=['target','ids','date','flag','user','text']\n",
    "DATASET_ENCODING = \"ISO-8859-1\" #This encoding is commonly used for datasets containing characters from Western European languages, as it supports a wider range of characters compared to ASCII encoding.\n",
    "df = pd.read_csv('training.1600000.processed.noemoticon.csv', \n",
    "                 encoding=DATASET_ENCODING, \n",
    "                 names=DATASET_COLUMNS)\n",
    "\n",
    "# Displaying  5 lines randomly \n",
    "df.sample(5)"
   ]
  },
  {
   "cell_type": "markdown",
   "id": "1ab0e3ba",
   "metadata": {},
   "source": [
    "# Exploratory Data Analysis"
   ]
  },
  {
   "cell_type": "code",
   "execution_count": 3,
   "id": "989be3c5",
   "metadata": {},
   "outputs": [
    {
     "data": {
      "text/html": [
       "<div>\n",
       "<style scoped>\n",
       "    .dataframe tbody tr th:only-of-type {\n",
       "        vertical-align: middle;\n",
       "    }\n",
       "\n",
       "    .dataframe tbody tr th {\n",
       "        vertical-align: top;\n",
       "    }\n",
       "\n",
       "    .dataframe thead th {\n",
       "        text-align: right;\n",
       "    }\n",
       "</style>\n",
       "<table border=\"1\" class=\"dataframe\">\n",
       "  <thead>\n",
       "    <tr style=\"text-align: right;\">\n",
       "      <th></th>\n",
       "      <th>target</th>\n",
       "      <th>ids</th>\n",
       "      <th>date</th>\n",
       "      <th>flag</th>\n",
       "      <th>user</th>\n",
       "      <th>text</th>\n",
       "    </tr>\n",
       "  </thead>\n",
       "  <tbody>\n",
       "    <tr>\n",
       "      <th>0</th>\n",
       "      <td>0</td>\n",
       "      <td>1467810369</td>\n",
       "      <td>Mon Apr 06 22:19:45 PDT 2009</td>\n",
       "      <td>NO_QUERY</td>\n",
       "      <td>_TheSpecialOne_</td>\n",
       "      <td>@switchfoot http://twitpic.com/2y1zl - Awww, t...</td>\n",
       "    </tr>\n",
       "    <tr>\n",
       "      <th>1</th>\n",
       "      <td>0</td>\n",
       "      <td>1467810672</td>\n",
       "      <td>Mon Apr 06 22:19:49 PDT 2009</td>\n",
       "      <td>NO_QUERY</td>\n",
       "      <td>scotthamilton</td>\n",
       "      <td>is upset that he can't update his Facebook by ...</td>\n",
       "    </tr>\n",
       "    <tr>\n",
       "      <th>2</th>\n",
       "      <td>0</td>\n",
       "      <td>1467810917</td>\n",
       "      <td>Mon Apr 06 22:19:53 PDT 2009</td>\n",
       "      <td>NO_QUERY</td>\n",
       "      <td>mattycus</td>\n",
       "      <td>@Kenichan I dived many times for the ball. Man...</td>\n",
       "    </tr>\n",
       "    <tr>\n",
       "      <th>3</th>\n",
       "      <td>0</td>\n",
       "      <td>1467811184</td>\n",
       "      <td>Mon Apr 06 22:19:57 PDT 2009</td>\n",
       "      <td>NO_QUERY</td>\n",
       "      <td>ElleCTF</td>\n",
       "      <td>my whole body feels itchy and like its on fire</td>\n",
       "    </tr>\n",
       "    <tr>\n",
       "      <th>4</th>\n",
       "      <td>0</td>\n",
       "      <td>1467811193</td>\n",
       "      <td>Mon Apr 06 22:19:57 PDT 2009</td>\n",
       "      <td>NO_QUERY</td>\n",
       "      <td>Karoli</td>\n",
       "      <td>@nationwideclass no, it's not behaving at all....</td>\n",
       "    </tr>\n",
       "  </tbody>\n",
       "</table>\n",
       "</div>"
      ],
      "text/plain": [
       "   target         ids                          date      flag  \\\n",
       "0       0  1467810369  Mon Apr 06 22:19:45 PDT 2009  NO_QUERY   \n",
       "1       0  1467810672  Mon Apr 06 22:19:49 PDT 2009  NO_QUERY   \n",
       "2       0  1467810917  Mon Apr 06 22:19:53 PDT 2009  NO_QUERY   \n",
       "3       0  1467811184  Mon Apr 06 22:19:57 PDT 2009  NO_QUERY   \n",
       "4       0  1467811193  Mon Apr 06 22:19:57 PDT 2009  NO_QUERY   \n",
       "\n",
       "              user                                               text  \n",
       "0  _TheSpecialOne_  @switchfoot http://twitpic.com/2y1zl - Awww, t...  \n",
       "1    scotthamilton  is upset that he can't update his Facebook by ...  \n",
       "2         mattycus  @Kenichan I dived many times for the ball. Man...  \n",
       "3          ElleCTF    my whole body feels itchy and like its on fire   \n",
       "4           Karoli  @nationwideclass no, it's not behaving at all....  "
      ]
     },
     "execution_count": 3,
     "metadata": {},
     "output_type": "execute_result"
    }
   ],
   "source": [
    "df.head()"
   ]
  },
  {
   "cell_type": "code",
   "execution_count": 4,
   "id": "2df016e8",
   "metadata": {},
   "outputs": [
    {
     "data": {
      "text/plain": [
       "(1600000, 6)"
      ]
     },
     "execution_count": 4,
     "metadata": {},
     "output_type": "execute_result"
    }
   ],
   "source": [
    "df.shape"
   ]
  },
  {
   "cell_type": "code",
   "execution_count": 5,
   "id": "0069324f",
   "metadata": {},
   "outputs": [
    {
     "name": "stdout",
     "output_type": "stream",
     "text": [
      "<class 'pandas.core.frame.DataFrame'>\n",
      "RangeIndex: 1600000 entries, 0 to 1599999\n",
      "Data columns (total 6 columns):\n",
      " #   Column  Non-Null Count    Dtype \n",
      "---  ------  --------------    ----- \n",
      " 0   target  1600000 non-null  int64 \n",
      " 1   ids     1600000 non-null  int64 \n",
      " 2   date    1600000 non-null  object\n",
      " 3   flag    1600000 non-null  object\n",
      " 4   user    1600000 non-null  object\n",
      " 5   text    1600000 non-null  object\n",
      "dtypes: int64(2), object(4)\n",
      "memory usage: 73.2+ MB\n"
     ]
    }
   ],
   "source": [
    "df.info()"
   ]
  },
  {
   "cell_type": "code",
   "execution_count": 6,
   "id": "94b0d7a9",
   "metadata": {},
   "outputs": [
    {
     "data": {
      "text/plain": [
       "target    0\n",
       "ids       0\n",
       "date      0\n",
       "flag      0\n",
       "user      0\n",
       "text      0\n",
       "dtype: int64"
      ]
     },
     "execution_count": 6,
     "metadata": {},
     "output_type": "execute_result"
    }
   ],
   "source": [
    "df.isnull().sum()"
   ]
  },
  {
   "cell_type": "code",
   "execution_count": 7,
   "id": "bbdbc62f",
   "metadata": {},
   "outputs": [
    {
     "data": {
      "text/plain": [
       "0    800000\n",
       "4    800000\n",
       "Name: target, dtype: int64"
      ]
     },
     "execution_count": 7,
     "metadata": {},
     "output_type": "execute_result"
    }
   ],
   "source": [
    "#Checking the distribution of classes\n",
    "df['target'].value_counts()"
   ]
  },
  {
   "cell_type": "markdown",
   "id": "dd5e8db7",
   "metadata": {},
   "source": [
    "The **`target`** column is composed of just **0** and **4**\n",
    "\n",
    "**0** stands for `negative` sentiment.\n",
    "\n",
    "**4** stands for `positive` sentiment."
   ]
  },
  {
   "cell_type": "code",
   "execution_count": 8,
   "id": "a9f59751",
   "metadata": {},
   "outputs": [
    {
     "data": {
      "text/plain": [
       "target     int64\n",
       "ids        int64\n",
       "date      object\n",
       "flag      object\n",
       "user      object\n",
       "text      object\n",
       "dtype: object"
      ]
     },
     "execution_count": 8,
     "metadata": {},
     "output_type": "execute_result"
    }
   ],
   "source": [
    "df.dtypes"
   ]
  },
  {
   "cell_type": "code",
   "execution_count": 9,
   "id": "326fe722",
   "metadata": {},
   "outputs": [
    {
     "data": {
      "text/html": [
       "<div>\n",
       "<style scoped>\n",
       "    .dataframe tbody tr th:only-of-type {\n",
       "        vertical-align: middle;\n",
       "    }\n",
       "\n",
       "    .dataframe tbody tr th {\n",
       "        vertical-align: top;\n",
       "    }\n",
       "\n",
       "    .dataframe thead th {\n",
       "        text-align: right;\n",
       "    }\n",
       "</style>\n",
       "<table border=\"1\" class=\"dataframe\">\n",
       "  <thead>\n",
       "    <tr style=\"text-align: right;\">\n",
       "      <th></th>\n",
       "      <th>ids</th>\n",
       "      <th>date</th>\n",
       "      <th>flag</th>\n",
       "      <th>user</th>\n",
       "      <th>text</th>\n",
       "    </tr>\n",
       "    <tr>\n",
       "      <th>target</th>\n",
       "      <th></th>\n",
       "      <th></th>\n",
       "      <th></th>\n",
       "      <th></th>\n",
       "      <th></th>\n",
       "    </tr>\n",
       "  </thead>\n",
       "  <tbody>\n",
       "    <tr>\n",
       "      <th>0</th>\n",
       "      <td>800000</td>\n",
       "      <td>800000</td>\n",
       "      <td>800000</td>\n",
       "      <td>800000</td>\n",
       "      <td>800000</td>\n",
       "    </tr>\n",
       "    <tr>\n",
       "      <th>4</th>\n",
       "      <td>800000</td>\n",
       "      <td>800000</td>\n",
       "      <td>800000</td>\n",
       "      <td>800000</td>\n",
       "      <td>800000</td>\n",
       "    </tr>\n",
       "  </tbody>\n",
       "</table>\n",
       "</div>"
      ],
      "text/plain": [
       "           ids    date    flag    user    text\n",
       "target                                        \n",
       "0       800000  800000  800000  800000  800000\n",
       "4       800000  800000  800000  800000  800000"
      ]
     },
     "execution_count": 9,
     "metadata": {},
     "output_type": "execute_result"
    }
   ],
   "source": [
    "df.groupby('target').count()"
   ]
  },
  {
   "cell_type": "code",
   "execution_count": 10,
   "id": "7dbe7c47",
   "metadata": {},
   "outputs": [
    {
     "data": {
      "image/png": "[encoded data removed]",
      "text/plain": [
       "<Figure size 432x288 with 1 Axes>"
      ]
     },
     "metadata": {
      "needs_background": "light"
     },
     "output_type": "display_data"
    }
   ],
   "source": [
    "# Plotting the distribution for dataset :\n",
    "ax = df.groupby('target').count().plot(kind='bar', title='Distribution of data',legend=False)\n",
    "ax.set_xticklabels(['Negative','Positive'], rotation=0)\n",
    "text, sentiment = list(df['text']), list(df['target'])\n",
    "#The lists text and sentiment are created for further analysis or processing outside the plot, containing the text and sentiment values from the DataFrame, respectively."
   ]
  },
  {
   "cell_type": "markdown",
   "id": "c2e30c67",
   "metadata": {},
   "source": [
    "In the above graph there are 5 colours each of each are representing columns **`ids`**, **`date`**, **`flag`**, **`user`**\tand **`text`**."
   ]
  },
  {
   "cell_type": "code",
   "execution_count": 11,
   "id": "394e97a3",
   "metadata": {},
   "outputs": [
    {
     "data": {
      "text/plain": [
       "<AxesSubplot:xlabel='target', ylabel='count'>"
      ]
     },
     "execution_count": 11,
     "metadata": {},
     "output_type": "execute_result"
    },
    {
     "data": {
      "image/png": "[encoded data removed]",
      "text/plain": [
       "<Figure size 432x288 with 1 Axes>"
      ]
     },
     "metadata": {
      "needs_background": "light"
     },
     "output_type": "display_data"
    }
   ],
   "source": [
    "sns.countplot(x='target', data=df)"
   ]
  },
  {
   "cell_type": "markdown",
   "id": "55394f8d",
   "metadata": {},
   "source": [
    "Here 0 represents **Negative** tweet\n",
    "\n",
    "While 4 represents **Positive** tweet"
   ]
  },
  {
   "cell_type": "markdown",
   "id": "9bfee107",
   "metadata": {},
   "source": [
    "## Data Preprocession "
   ]
  },
  {
   "cell_type": "code",
   "execution_count": 12,
   "id": "843f7247",
   "metadata": {},
   "outputs": [],
   "source": [
    "# Selecting only the features required for our further analysis :\n",
    "df = df[['text','target']]"
   ]
  },
  {
   "cell_type": "code",
   "execution_count": 13,
   "id": "880a9109",
   "metadata": {},
   "outputs": [],
   "source": [
    "df['target'] = df['target'].replace(4,1) #Replacing class 4 with 1 so wo 1 will represent positive tweets"
   ]
  },
  {
   "cell_type": "code",
   "execution_count": 14,
   "id": "6df8e5f2",
   "metadata": {},
   "outputs": [
    {
     "data": {
      "text/plain": [
       "array([0, 1], dtype=int64)"
      ]
     },
     "execution_count": 14,
     "metadata": {},
     "output_type": "execute_result"
    }
   ],
   "source": [
    "df['target'].unique()"
   ]
  },
  {
   "cell_type": "code",
   "execution_count": 15,
   "id": "878546fa",
   "metadata": {},
   "outputs": [],
   "source": [
    "# Separating positive and negative tweets :\n",
    "positive = df[df['target'] == 1]\n",
    "negative = df[df['target'] == 0]"
   ]
  },
  {
   "cell_type": "code",
   "execution_count": 16,
   "id": "8762df26",
   "metadata": {},
   "outputs": [],
   "source": [
    "# Combining positive and negative tweets :\n",
    "dataset = pd.concat([positive, negative])"
   ]
  },
  {
   "cell_type": "markdown",
   "id": "3b10d0f7",
   "metadata": {},
   "source": [
    "The dataset will now have clear separation of positive and negative sentiments.\n",
    "\n",
    "1st half will contain the **Positive** Tweets.\n",
    "\n",
    "2nd half will contain the **Negatuve** Tweets."
   ]
  },
  {
   "cell_type": "code",
   "execution_count": 17,
   "id": "dbb42acc",
   "metadata": {},
   "outputs": [
    {
     "data": {
      "text/html": [
       "<div>\n",
       "<style scoped>\n",
       "    .dataframe tbody tr th:only-of-type {\n",
       "        vertical-align: middle;\n",
       "    }\n",
       "\n",
       "    .dataframe tbody tr th {\n",
       "        vertical-align: top;\n",
       "    }\n",
       "\n",
       "    .dataframe thead th {\n",
       "        text-align: right;\n",
       "    }\n",
       "</style>\n",
       "<table border=\"1\" class=\"dataframe\">\n",
       "  <thead>\n",
       "    <tr style=\"text-align: right;\">\n",
       "      <th></th>\n",
       "      <th>text</th>\n",
       "      <th>target</th>\n",
       "    </tr>\n",
       "  </thead>\n",
       "  <tbody>\n",
       "    <tr>\n",
       "      <th>1058430</th>\n",
       "      <td>got a new perfume yesterday. been smelling mys...</td>\n",
       "      <td>1</td>\n",
       "    </tr>\n",
       "    <tr>\n",
       "      <th>1183434</th>\n",
       "      <td>@blatter you've done well</td>\n",
       "      <td>1</td>\n",
       "    </tr>\n",
       "    <tr>\n",
       "      <th>818802</th>\n",
       "      <td>@apshai ahh, okay, i feel better now.  still w...</td>\n",
       "      <td>1</td>\n",
       "    </tr>\n",
       "    <tr>\n",
       "      <th>853854</th>\n",
       "      <td>@foodstories amazing  i can't wait now, im goi...</td>\n",
       "      <td>1</td>\n",
       "    </tr>\n",
       "    <tr>\n",
       "      <th>752319</th>\n",
       "      <td>@allieandra what? no?? ... oh shit, you're right</td>\n",
       "      <td>0</td>\n",
       "    </tr>\n",
       "  </tbody>\n",
       "</table>\n",
       "</div>"
      ],
      "text/plain": [
       "                                                      text  target\n",
       "1058430  got a new perfume yesterday. been smelling mys...       1\n",
       "1183434                         @blatter you've done well        1\n",
       "818802   @apshai ahh, okay, i feel better now.  still w...       1\n",
       "853854   @foodstories amazing  i can't wait now, im goi...       1\n",
       "752319   @allieandra what? no?? ... oh shit, you're right        0"
      ]
     },
     "execution_count": 17,
     "metadata": {},
     "output_type": "execute_result"
    }
   ],
   "source": [
    "dataset['text'] = dataset['text'].str.lower() #Making all the text lower to avoid case sensitive issues\n",
    "dataset.sample(5)"
   ]
  },
  {
   "cell_type": "code",
   "execution_count": 18,
   "id": "4e511c40",
   "metadata": {},
   "outputs": [],
   "source": [
    "import nltk"
   ]
  },
  {
   "cell_type": "code",
   "execution_count": 19,
   "id": "0d310870",
   "metadata": {},
   "outputs": [
    {
     "name": "stderr",
     "output_type": "stream",
     "text": [
      "[nltk_data] Downloading package stopwords to\n",
      "[nltk_data]     C:\\Users\\Admin\\AppData\\Roaming\\nltk_data...\n",
      "[nltk_data]   Package stopwords is already up-to-date!\n"
     ]
    },
    {
     "data": {
      "text/plain": [
       "True"
      ]
     },
     "execution_count": 19,
     "metadata": {},
     "output_type": "execute_result"
    }
   ],
   "source": [
    "nltk.download('stopwords')"
   ]
  },
  {
   "cell_type": "code",
   "execution_count": 20,
   "id": "bd43623b",
   "metadata": {},
   "outputs": [
    {
     "name": "stdout",
     "output_type": "stream",
     "text": [
      "['i', 'me', 'my', 'myself', 'we', 'our', 'ours', 'ourselves', 'you', \"you're\", \"you've\", \"you'll\", \"you'd\", 'your', 'yours', 'yourself', 'yourselves', 'he', 'him', 'his', 'himself', 'she', \"she's\", 'her', 'hers', 'herself', 'it', \"it's\", 'its', 'itself', 'they', 'them', 'their', 'theirs', 'themselves', 'what', 'which', 'who', 'whom', 'this', 'that', \"that'll\", 'these', 'those', 'am', 'is', 'are', 'was', 'were', 'be', 'been', 'being', 'have', 'has', 'had', 'having', 'do', 'does', 'did', 'doing', 'a', 'an', 'the', 'and', 'but', 'if', 'or', 'because', 'as', 'until', 'while', 'of', 'at', 'by', 'for', 'with', 'about', 'against', 'between', 'into', 'through', 'during', 'before', 'after', 'above', 'below', 'to', 'from', 'up', 'down', 'in', 'out', 'on', 'off', 'over', 'under', 'again', 'further', 'then', 'once', 'here', 'there', 'when', 'where', 'why', 'how', 'all', 'any', 'both', 'each', 'few', 'more', 'most', 'other', 'some', 'such', 'no', 'nor', 'not', 'only', 'own', 'same', 'so', 'than', 'too', 'very', 's', 't', 'can', 'will', 'just', 'don', \"don't\", 'should', \"should've\", 'now', 'd', 'll', 'm', 'o', 're', 've', 'y', 'ain', 'aren', \"aren't\", 'couldn', \"couldn't\", 'didn', \"didn't\", 'doesn', \"doesn't\", 'hadn', \"hadn't\", 'hasn', \"hasn't\", 'haven', \"haven't\", 'isn', \"isn't\", 'ma', 'mightn', \"mightn't\", 'mustn', \"mustn't\", 'needn', \"needn't\", 'shan', \"shan't\", 'shouldn', \"shouldn't\", 'wasn', \"wasn't\", 'weren', \"weren't\", 'won', \"won't\", 'wouldn', \"wouldn't\"]\n"
     ]
    }
   ],
   "source": [
    "from nltk.corpus import stopwords\n",
    "print(stopwords.words('english'))"
   ]
  },
  {
   "cell_type": "code",
   "execution_count": 21,
   "id": "ee2ed49c",
   "metadata": {},
   "outputs": [
    {
     "name": "stdout",
     "output_type": "stream",
     "text": [
      "bachelor data scienc\n"
     ]
    }
   ],
   "source": [
    "\n",
    "\n",
    "def stemming(text):\n",
    "    stemmer = PorterStemmer()\n",
    "    \n",
    "    # Remove non-alphabetic characters\n",
    "    text = re.sub('[^a-zA-Z]', ' ', text)\n",
    "    \n",
    "    # Tokenize the text\n",
    "    words = word_tokenize(text)\n",
    "    \n",
    "    # Remove stopwords and apply stemming\n",
    "    stemmed_words = [stemmer.stem(word) for word in words if word.lower() not in stopwords.words('english')]\n",
    "    \n",
    "    # Join the stemmed words back into a single string\n",
    "    stemmed_text = ' '.join(stemmed_words)\n",
    "    \n",
    "    return stemmed_text\n",
    "\n",
    "example_text = \"I am doing Bachelors in data Science\"\n",
    "stemmed_text = stemming(example_text)\n",
    "print(stemmed_text)"
   ]
  },
  {
   "cell_type": "code",
   "execution_count": 22,
   "id": "2d91d8c2",
   "metadata": {},
   "outputs": [
    {
     "name": "stdout",
     "output_type": "stream",
     "text": [
      "                                                     text  target\n",
      "800000                   love health uandpet u guy r best       1\n",
      "800001      im meet one besti tonight cant wait girl talk       1\n",
      "800002  darealsunisakim thank twitter add sunisa got m...       1\n",
      "800003  sick realli cheap hurt much eat real food plu ...       1\n",
      "800004                       lovesbrooklyn effect everyon       1\n",
      "...                                                   ...     ...\n",
      "799995          sick spend day lay bed listen taylorswift       0\n",
      "799996                                              gmail       0\n",
      "799997                               rest peac farrah sad       0\n",
      "799998    eric urban sound like rival flag ad much though       0\n",
      "799999  resit exam summer wish work harder first year uni       0\n",
      "\n",
      "[1600000 rows x 2 columns]\n"
     ]
    }
   ],
   "source": [
    "dataset['text'] = dataset['text'].apply(stemming)\n",
    "print(dataset)"
   ]
  },
  {
   "cell_type": "code",
   "execution_count": 63,
   "id": "e9a204ae",
   "metadata": {},
   "outputs": [],
   "source": [
    "X = dataset['text']\n",
    "Y = dataset['target']\n",
    "X_train,X_test,Y_train,Y_test = train_test_split(X,Y, test_size= 0.2,stratify = Y,random_state=1)"
   ]
  },
  {
   "cell_type": "code",
   "execution_count": 64,
   "id": "fb02aeb7",
   "metadata": {},
   "outputs": [
    {
     "name": "stdout",
     "output_type": "stream",
     "text": [
      "800000                     love health uandpet u guy r best\n",
      "800001        im meet one besti tonight cant wait girl talk\n",
      "800002    darealsunisakim thank twitter add sunisa got m...\n",
      "800003    sick realli cheap hurt much eat real food plu ...\n",
      "800004                         lovesbrooklyn effect everyon\n",
      "                                ...                        \n",
      "799995            sick spend day lay bed listen taylorswift\n",
      "799996                                                gmail\n",
      "799997                                 rest peac farrah sad\n",
      "799998      eric urban sound like rival flag ad much though\n",
      "799999    resit exam summer wish work harder first year uni\n",
      "Name: text, Length: 1600000, dtype: object\n"
     ]
    }
   ],
   "source": [
    "print(X)\n"
   ]
  },
  {
   "cell_type": "code",
   "execution_count": 65,
   "id": "a70ae352",
   "metadata": {},
   "outputs": [
    {
     "name": "stdout",
     "output_type": "stream",
     "text": [
      "800000    1\n",
      "800001    1\n",
      "800002    1\n",
      "800003    1\n",
      "800004    1\n",
      "         ..\n",
      "799995    0\n",
      "799996    0\n",
      "799997    0\n",
      "799998    0\n",
      "799999    0\n",
      "Name: target, Length: 1600000, dtype: int64\n"
     ]
    }
   ],
   "source": [
    "print(Y)"
   ]
  },
  {
   "cell_type": "markdown",
   "id": "10865136",
   "metadata": {},
   "source": [
    "#### TfidfVectorizer\n",
    "The TfidfVectorizer converts a collection of raw documents into a matrix of TF-IDF features.\n",
    "\n",
    "TF-IDF: Term Frequency-Inverse Document Frequency (TF-IDF) is a numerical statistic that reflects the importance of a word in a document relative to a collection of documents.\n",
    "\n",
    "Term Frequency (TF): It measures the frequency of a term (word) in a document. It increases with the number of occurrences of the term in the document.\n",
    "\n",
    "Inverse Document Frequency (IDF): It measures how important a term is across multiple documents in the collection. Terms that occur frequently across documents are given a lower weight."
   ]
  },
  {
   "cell_type": "code",
   "execution_count": 66,
   "id": "25be56cc",
   "metadata": {},
   "outputs": [],
   "source": [
    "vc = TfidfVectorizer()\n",
    "\n",
    "X_train = vc.fit_transform(X_train)# fit is used to understand the nature of data\n",
    "X_test = vc.transform(X_test)\n"
   ]
  },
  {
   "cell_type": "code",
   "execution_count": 67,
   "id": "fc8f64e8",
   "metadata": {},
   "outputs": [
    {
     "name": "stdout",
     "output_type": "stream",
     "text": [
      "(1280000, 461470)\n"
     ]
    }
   ],
   "source": [
    "print(X_train.shape)"
   ]
  },
  {
   "cell_type": "code",
   "execution_count": 68,
   "id": "1375e2b6",
   "metadata": {},
   "outputs": [
    {
     "name": "stdout",
     "output_type": "stream",
     "text": [
      "  (0, 408993)\t0.20327132937613104\n",
      "  (0, 106815)\t0.37134449965091226\n",
      "  (0, 347930)\t0.4123017384299885\n",
      "  (0, 317915)\t0.30350077343669557\n",
      "  (0, 227941)\t0.2912488589003264\n",
      "  (0, 266341)\t0.3358584555454906\n",
      "  (0, 239609)\t0.20930055750051507\n",
      "  (0, 364817)\t0.37627918401650134\n",
      "  (0, 341504)\t0.41911697481409166\n",
      "  (1, 324565)\t0.5346829742944466\n",
      "  (1, 240356)\t0.32757289154579433\n",
      "  (1, 411414)\t0.28912454600209647\n",
      "  (1, 181329)\t0.5247713457687215\n",
      "  (1, 286003)\t0.49782742921934126\n",
      "  (2, 306992)\t0.41244791725873703\n",
      "  (2, 129981)\t0.27792888797524024\n",
      "  (2, 118466)\t0.8675495656028976\n",
      "  (3, 15081)\t0.44595664917320677\n",
      "  (3, 244938)\t0.24365166869261953\n",
      "  (3, 136559)\t0.2030585102219242\n",
      "  (3, 165909)\t0.30014312059830567\n",
      "  (3, 15061)\t0.15048519407525865\n",
      "  (3, 125918)\t0.2975473828320111\n",
      "  (3, 439080)\t0.1893315187082751\n",
      "  (3, 375837)\t0.24345453849281473\n",
      "  :\t:\n",
      "  (1279995, 162976)\t0.5039996612991468\n",
      "  (1279995, 44681)\t0.3863978701646447\n",
      "  (1279995, 411670)\t0.372838323110258\n",
      "  (1279995, 15061)\t0.2448880314664291\n",
      "  (1279996, 162611)\t0.9170184245966555\n",
      "  (1279996, 301715)\t0.3988448432038055\n",
      "  (1279997, 48032)\t0.7106275422504759\n",
      "  (1279997, 266399)\t0.3317047553022076\n",
      "  (1279997, 407214)\t0.25725887039544487\n",
      "  (1279997, 66539)\t0.31480605075228085\n",
      "  (1279997, 438701)\t0.3147730037547079\n",
      "  (1279997, 220417)\t0.21795307699256708\n",
      "  (1279997, 232493)\t0.2703884018486619\n",
      "  (1279998, 170341)\t0.7248273671455748\n",
      "  (1279998, 31249)\t0.47207568562477126\n",
      "  (1279998, 52326)\t0.33866618306214424\n",
      "  (1279998, 39578)\t0.3702364802782599\n",
      "  (1279999, 54481)\t0.5446530990053232\n",
      "  (1279999, 236096)\t0.3976362740917485\n",
      "  (1279999, 180920)\t0.3303551236864774\n",
      "  (1279999, 182074)\t0.30232659203805556\n",
      "  (1279999, 21375)\t0.31650377005059455\n",
      "  (1279999, 443017)\t0.3072247348647367\n",
      "  (1279999, 49304)\t0.31631089704062015\n",
      "  (1279999, 453634)\t0.22380406947928233\n"
     ]
    }
   ],
   "source": [
    "print(X_train)"
   ]
  },
  {
   "cell_type": "markdown",
   "id": "b4add36e",
   "metadata": {},
   "source": [
    "The format (row_index, column_index) value indicates the position and the value of the non-zero \n",
    "elements .\n",
    "\n",
    "For example, (0, 408993) 0.20327132937613104 means that in tweet 0, the term with index 408993 has \n",
    "\n",
    "a weight (TF-IDF score, for instance) of approximately 0.203.\n"
   ]
  },
  {
   "cell_type": "code",
   "execution_count": 69,
   "id": "4effeae9",
   "metadata": {},
   "outputs": [],
   "source": [
    "def model_Evaluate(model):\n",
    "    # Predict values for Test dataset\n",
    "    y_pred = model.predict(X_test)\n",
    "    # Print the evaluation metrics for the dataset.\n",
    "    print(classification_report(Y_test, y_pred))\n",
    "    # Compute and plot the Confusion matrix\n",
    "    cf_matrix = confusion_matrix(Y_test, y_pred)\n",
    "    categories = ['Negative','Positive']\n",
    "    group_names = ['True Neg','False Pos', 'False Neg','True Pos']\n",
    "    group_percentages = ['{0:.2%}'.format(value) for value in cf_matrix.flatten() / np.sum(cf_matrix)]\n",
    "    labels = [f'{v1}n{v2}' for v1, v2 in zip(group_names,group_percentages)]\n",
    "    labels = np.asarray(labels).reshape(2,2)\n",
    "    sns.heatmap(cf_matrix, annot = labels, cmap = 'Blues',fmt = '',\n",
    "    xticklabels = categories, yticklabels = categories)\n",
    "    plt.xlabel(\"Predicted values\", fontdict = {'size':14}, labelpad = 10)\n",
    "    plt.ylabel(\"Actual values\" , fontdict = {'size':14}, labelpad = 10)\n",
    "    plt.title (\"Confusion Matrix\", fontdict = {'size':18}, pad = 20)"
   ]
  },
  {
   "cell_type": "markdown",
   "id": "1f7f40fe",
   "metadata": {},
   "source": [
    "# SVM (Support Vector Machine).\n"
   ]
  },
  {
   "cell_type": "code",
   "execution_count": 70,
   "id": "e7895d16",
   "metadata": {},
   "outputs": [
    {
     "name": "stdout",
     "output_type": "stream",
     "text": [
      "The execution time of this model is 51.91 seconds\n",
      "\n",
      "              precision    recall  f1-score   support\n",
      "\n",
      "           0       0.78      0.76      0.77    160000\n",
      "           1       0.76      0.78      0.77    160000\n",
      "\n",
      "    accuracy                           0.77    320000\n",
      "   macro avg       0.77      0.77      0.77    320000\n",
      "weighted avg       0.77      0.77      0.77    320000\n",
      "\n"
     ]
    },
    {
     "data": {
      "image/png": "[encoded data removed]",
      "text/plain": [
       "<Figure size 432x288 with 2 Axes>"
      ]
     },
     "metadata": {
      "needs_background": "light"
     },
     "output_type": "display_data"
    }
   ],
   "source": [
    "SVCmodel = LinearSVC()\n",
    "start = time.time()\n",
    "SVCmodel.fit(X_train, Y_train)\n",
    "end = time.time()\n",
    "print(\"The execution time of this model is {:.2f} seconds\\n\".format(end-start))\n",
    "model_Evaluate(SVCmodel)\n",
    "y_pred2 = SVCmodel.predict(X_test)#y_pred2 will be an array or a list containing the predicted labels for the samples in the test dataset X_test."
   ]
  },
  {
   "cell_type": "markdown",
   "id": "6cbf917c",
   "metadata": {},
   "source": [
    "# Bernoulli Naive Bayes.\n"
   ]
  },
  {
   "cell_type": "code",
   "execution_count": 71,
   "id": "bf506ca0",
   "metadata": {},
   "outputs": [
    {
     "name": "stdout",
     "output_type": "stream",
     "text": [
      "The execution time of this model is 1.10 seconds\n",
      "\n",
      "              precision    recall  f1-score   support\n",
      "\n",
      "           0       0.75      0.79      0.77    160000\n",
      "           1       0.78      0.74      0.76    160000\n",
      "\n",
      "    accuracy                           0.76    320000\n",
      "   macro avg       0.76      0.76      0.76    320000\n",
      "weighted avg       0.76      0.76      0.76    320000\n",
      "\n"
     ]
    },
    {
     "data": {
      "image/png": "[encoded data removed]",
      "text/plain": [
       "<Figure size 432x288 with 2 Axes>"
      ]
     },
     "metadata": {
      "needs_background": "light"
     },
     "output_type": "display_data"
    }
   ],
   "source": [
    "BNBmodel = BernoulliNB()\n",
    "start = time.time()\n",
    "BNBmodel.fit(X_train, Y_train)\n",
    "end = time.time()\n",
    "print(\"The execution time of this model is {:.2f} seconds\\n\".format(end-start))\n",
    "model_Evaluate(BNBmodel)\n",
    "y_pred1 = BNBmodel.predict(X_test)#y_pred1 will be an array or a list containing the predicted labels for the samples in the test dataset X_test."
   ]
  },
  {
   "cell_type": "markdown",
   "id": "e5d72bd4",
   "metadata": {},
   "source": [
    "# Saving Our trained model"
   ]
  },
  {
   "cell_type": "code",
   "execution_count": null,
   "id": "85018323",
   "metadata": {},
   "outputs": [],
   "source": [
    "import pickle\n",
    "\n",
    "# Save the trained model to a file\n",
    "with open(\"model_filename.pkl\", \"wb\") as file:\n",
    "    pickle.dump(SVCmodel, file)\n",
    "# Load the model from the file\n",
    "with open(\"model_filename.pkl\", \"rb\") as file:\n",
    "    loaded_model = pickle.load(file)\n",
    "\n",
    "# Now you can use the loaded model to make predictions or perform other tasks\n",
    "model_score = loaded_model.score(X_test, Y_test)\n",
    "model_score"
   ]
  },
  {
   "cell_type": "code",
   "execution_count": null,
   "id": "97d97971",
   "metadata": {},
   "outputs": [],
   "source": []
  },
  {
   "cell_type": "markdown",
   "id": "d3f9421e",
   "metadata": {},
   "source": [
    "# User Interface Design"
   ]
  },
  {
   "cell_type": "code",
   "execution_count": null,
   "id": "d0eb9517",
   "metadata": {},
   "outputs": [],
   "source": [
    "import tkinter as tk\n",
    "\n",
    "# Split dataset into training and testing sets\n",
    "X_train, X_test, Y_train, Y_test = train_test_split(X, Y, test_size=0.2, stratify=Y, random_state=1)\n",
    "\n",
    "# Initialize TfidfVectorizer and transform the text data\n",
    "tfidf_vectorizer = TfidfVectorizer()\n",
    "X_train_tfidf = tfidf_vectorizer.fit_transform(X_train)\n",
    "X_test_tfidf = tfidf_vectorizer.transform(X_test)\n",
    "\n",
    "# Train your machine learning model\n",
    "model = LinearSVC()\n",
    "model.fit(X_train_tfidf, Y_train)\n",
    "\n",
    "# Function to get prediction\n",
    "def get_prediction():\n",
    "    input_text = text_entry.get(\"1.0\",'end-1c')  # Get input text from Text widget\n",
    "    text_tfidf = tfidf_vectorizer.transform([input_text])  # Transform input text\n",
    "    prediction = model.predict(text_tfidf)[0]  # Make prediction\n",
    "    result_label.config(text=f\"Prediction: {prediction}\")  # Display prediction\n",
    "\n",
    "# Create Tkinter window\n",
    "window = tk.Tk()\n",
    "window.title(\"Text Classification\")\n",
    "\n",
    "# Create Text widget for input\n",
    "text_entry = tk.Text(window, height=10, width=40)\n",
    "text_entry.pack(pady=10)\n",
    "\n",
    "# Create button to get prediction\n",
    "predict_button = tk.Button(window, text=\"Get Prediction\", command=get_prediction)\n",
    "predict_button.pack()\n",
    "\n",
    "# Create label to display prediction\n",
    "result_label = tk.Label(window, text=\"\")\n",
    "result_label.pack()\n",
    "\n",
    "# Start Tkinter event loop\n",
    "window.mainloop()\n"
   ]
  },
  {
   "cell_type": "code",
   "execution_count": null,
   "id": "d3ffa351",
   "metadata": {},
   "outputs": [],
   "source": []
  },
  {
   "cell_type": "code",
   "execution_count": null,
   "id": "faf32518",
   "metadata": {},
   "outputs": [],
   "source": []
  },
  {
   "cell_type": "code",
   "execution_count": null,
   "id": "65a8797d",
   "metadata": {},
   "outputs": [],
   "source": []
  }
 ],
 "metadata": {
  "kernelspec": {
   "display_name": "Python 3 (ipykernel)",
   "language": "python",
   "name": "python3"
  },
  "language_info": {
   "codemirror_mode": {
    "name": "ipython",
    "version": 3
   },
   "file_extension": ".py",
   "mimetype": "text/x-python",
   "name": "python",
   "nbconvert_exporter": "python",
   "pygments_lexer": "ipython3",
   "version": "3.9.12"
  }
 },
 "nbformat": 4,
 "nbformat_minor": 5
}
